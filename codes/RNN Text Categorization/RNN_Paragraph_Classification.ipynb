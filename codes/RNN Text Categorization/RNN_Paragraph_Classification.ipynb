{
 "cells": [
  {
   "cell_type": "code",
   "execution_count": null,
   "metadata": {},
   "outputs": [],
   "source": [
    "########################################################################################################################\n",
    "# Filename: RNN_Paragraph_Classification.ipynb\n",
    "#\n",
    "# Purpose: Multi-label Text-categorization, using recurrent neural networks, for paragraph-level\n",
    "#          data as part of STAT 6500 final project.\n",
    "\n",
    "# Author(s): Bobby (Robert) Lumpkin\n",
    "#\n",
    "# Library Dependencies: numpy, pandas, tensorflow, bpmll\n",
    "########################################################################################################################"
   ]
  },
  {
   "cell_type": "markdown",
   "metadata": {},
   "source": [
    "# Paragraph Classification Using RNNs"
   ]
  },
  {
   "cell_type": "code",
   "execution_count": 1,
   "metadata": {},
   "outputs": [],
   "source": [
    "import numpy as np\n",
    "import json\n",
    "import pandas as pd\n",
    "import os\n",
    "import random\n",
    "import tensorflow as tf\n",
    "import tensorflow_addons as tfa\n",
    "from bpmll import bp_mll_loss\n",
    "import sklearn_json as skljson\n",
    "from sklearn.model_selection import train_test_split\n",
    "from sklearn import metrics\n",
    "import sys\n",
    "sys.path.append('../ThresholdFunctionLearning')    ## Append path to the ThresholdFunctionLearning directory to the interpreters\n",
    "                                                   ## search path\n",
    "from threshold_learning import predict_test_labels_binary    ## Import the 'predict_test_labels_binary()' function from the \n",
    "                                                             ## threshold_learning library"
   ]
  },
  {
   "cell_type": "code",
   "execution_count": 2,
   "metadata": {
    "collapsed": true,
    "jupyter": {
     "outputs_hidden": true
    }
   },
   "outputs": [
    {
     "data": {
      "text/html": [
       "<div>\n",
       "<style scoped>\n",
       "    .dataframe tbody tr th:only-of-type {\n",
       "        vertical-align: middle;\n",
       "    }\n",
       "\n",
       "    .dataframe tbody tr th {\n",
       "        vertical-align: top;\n",
       "    }\n",
       "\n",
       "    .dataframe thead th {\n",
       "        text-align: right;\n",
       "    }\n",
       "</style>\n",
       "<table border=\"1\" class=\"dataframe\">\n",
       "  <thead>\n",
       "    <tr style=\"text-align: right;\">\n",
       "      <th></th>\n",
       "      <th>para_id</th>\n",
       "      <th>full_text</th>\n",
       "      <th>threats/impacts</th>\n",
       "      <th>responses/actions</th>\n",
       "      <th>severity</th>\n",
       "      <th>susceptibility</th>\n",
       "      <th>self-efficacy</th>\n",
       "      <th>external-efficacy</th>\n",
       "      <th>response efficacy</th>\n",
       "      <th>public health</th>\n",
       "      <th>...</th>\n",
       "      <th>prosper</th>\n",
       "      <th>preview</th>\n",
       "      <th>moor</th>\n",
       "      <th>coverag</th>\n",
       "      <th>glow</th>\n",
       "      <th>profil</th>\n",
       "      <th>clash</th>\n",
       "      <th>incumb</th>\n",
       "      <th>frequent</th>\n",
       "      <th>unfound</th>\n",
       "    </tr>\n",
       "  </thead>\n",
       "  <tbody>\n",
       "    <tr>\n",
       "      <th>0</th>\n",
       "      <td>214236</td>\n",
       "      <td>MURPHY: Again Martha we are defacto staying at...</td>\n",
       "      <td>1</td>\n",
       "      <td>1</td>\n",
       "      <td>0</td>\n",
       "      <td>1</td>\n",
       "      <td>1</td>\n",
       "      <td>0</td>\n",
       "      <td>1</td>\n",
       "      <td>1</td>\n",
       "      <td>...</td>\n",
       "      <td>0.0</td>\n",
       "      <td>0.0</td>\n",
       "      <td>0.0</td>\n",
       "      <td>0.0</td>\n",
       "      <td>0.0</td>\n",
       "      <td>0.0</td>\n",
       "      <td>0.0</td>\n",
       "      <td>0.0</td>\n",
       "      <td>0.0</td>\n",
       "      <td>0.0</td>\n",
       "    </tr>\n",
       "    <tr>\n",
       "      <th>1</th>\n",
       "      <td>214232</td>\n",
       "      <td>GOV. PHIL MURPHY, (D-NJ): Yes. Good to be back...</td>\n",
       "      <td>1</td>\n",
       "      <td>1</td>\n",
       "      <td>1</td>\n",
       "      <td>1</td>\n",
       "      <td>1</td>\n",
       "      <td>0</td>\n",
       "      <td>1</td>\n",
       "      <td>1</td>\n",
       "      <td>...</td>\n",
       "      <td>0.0</td>\n",
       "      <td>0.0</td>\n",
       "      <td>0.0</td>\n",
       "      <td>0.0</td>\n",
       "      <td>0.0</td>\n",
       "      <td>0.0</td>\n",
       "      <td>0.0</td>\n",
       "      <td>0.0</td>\n",
       "      <td>0.0</td>\n",
       "      <td>0.0</td>\n",
       "    </tr>\n",
       "    <tr>\n",
       "      <th>2</th>\n",
       "      <td>214266</td>\n",
       "      <td>BEAUMONT (ON SCREEN UPPER LEFT - \"FRIDAY MARCH...</td>\n",
       "      <td>0</td>\n",
       "      <td>1</td>\n",
       "      <td>0</td>\n",
       "      <td>0</td>\n",
       "      <td>0</td>\n",
       "      <td>1</td>\n",
       "      <td>0</td>\n",
       "      <td>1</td>\n",
       "      <td>...</td>\n",
       "      <td>0.0</td>\n",
       "      <td>0.0</td>\n",
       "      <td>0.0</td>\n",
       "      <td>0.0</td>\n",
       "      <td>0.0</td>\n",
       "      <td>0.0</td>\n",
       "      <td>0.0</td>\n",
       "      <td>0.0</td>\n",
       "      <td>0.0</td>\n",
       "      <td>0.0</td>\n",
       "    </tr>\n",
       "    <tr>\n",
       "      <th>3</th>\n",
       "      <td>214246</td>\n",
       "      <td>But in the meantime, my message to Louisiana i...</td>\n",
       "      <td>1</td>\n",
       "      <td>1</td>\n",
       "      <td>1</td>\n",
       "      <td>0</td>\n",
       "      <td>1</td>\n",
       "      <td>0</td>\n",
       "      <td>1</td>\n",
       "      <td>1</td>\n",
       "      <td>...</td>\n",
       "      <td>0.0</td>\n",
       "      <td>0.0</td>\n",
       "      <td>0.0</td>\n",
       "      <td>0.0</td>\n",
       "      <td>0.0</td>\n",
       "      <td>0.0</td>\n",
       "      <td>0.0</td>\n",
       "      <td>0.0</td>\n",
       "      <td>0.0</td>\n",
       "      <td>0.0</td>\n",
       "    </tr>\n",
       "    <tr>\n",
       "      <th>4</th>\n",
       "      <td>214238</td>\n",
       "      <td>MURPHY: Yeah listen, we had gotten another shi...</td>\n",
       "      <td>0</td>\n",
       "      <td>1</td>\n",
       "      <td>0</td>\n",
       "      <td>0</td>\n",
       "      <td>0</td>\n",
       "      <td>1</td>\n",
       "      <td>0</td>\n",
       "      <td>1</td>\n",
       "      <td>...</td>\n",
       "      <td>0.0</td>\n",
       "      <td>0.0</td>\n",
       "      <td>0.0</td>\n",
       "      <td>0.0</td>\n",
       "      <td>0.0</td>\n",
       "      <td>0.0</td>\n",
       "      <td>0.0</td>\n",
       "      <td>0.0</td>\n",
       "      <td>0.0</td>\n",
       "      <td>0.0</td>\n",
       "    </tr>\n",
       "  </tbody>\n",
       "</table>\n",
       "<p>5 rows × 2119 columns</p>\n",
       "</div>"
      ],
      "text/plain": [
       "   para_id                                          full_text  \\\n",
       "0   214236  MURPHY: Again Martha we are defacto staying at...   \n",
       "1   214232  GOV. PHIL MURPHY, (D-NJ): Yes. Good to be back...   \n",
       "2   214266  BEAUMONT (ON SCREEN UPPER LEFT - \"FRIDAY MARCH...   \n",
       "3   214246  But in the meantime, my message to Louisiana i...   \n",
       "4   214238  MURPHY: Yeah listen, we had gotten another shi...   \n",
       "\n",
       "   threats/impacts  responses/actions  severity  susceptibility  \\\n",
       "0                1                  1         0               1   \n",
       "1                1                  1         1               1   \n",
       "2                0                  1         0               0   \n",
       "3                1                  1         1               0   \n",
       "4                0                  1         0               0   \n",
       "\n",
       "   self-efficacy  external-efficacy  response efficacy  public health  ...  \\\n",
       "0              1                  0                  1              1  ...   \n",
       "1              1                  0                  1              1  ...   \n",
       "2              0                  1                  0              1  ...   \n",
       "3              1                  0                  1              1  ...   \n",
       "4              0                  1                  0              1  ...   \n",
       "\n",
       "   prosper  preview  moor  coverag  glow  profil  clash  incumb  frequent  \\\n",
       "0      0.0      0.0   0.0      0.0   0.0     0.0    0.0     0.0       0.0   \n",
       "1      0.0      0.0   0.0      0.0   0.0     0.0    0.0     0.0       0.0   \n",
       "2      0.0      0.0   0.0      0.0   0.0     0.0    0.0     0.0       0.0   \n",
       "3      0.0      0.0   0.0      0.0   0.0     0.0    0.0     0.0       0.0   \n",
       "4      0.0      0.0   0.0      0.0   0.0     0.0    0.0     0.0       0.0   \n",
       "\n",
       "  unfound  \n",
       "0     0.0  \n",
       "1     0.0  \n",
       "2     0.0  \n",
       "3     0.0  \n",
       "4     0.0  \n",
       "\n",
       "[5 rows x 2119 columns]"
      ]
     },
     "execution_count": 2,
     "metadata": {},
     "output_type": "execute_result"
    }
   ],
   "source": [
    "## Load 'content_paragraphs_ready.csv' into a pandas dataframe\n",
    "data_filepath = \"..\\..\\dataset\\content_paragraphs_ready.csv\"\n",
    "paragraph_data = pd.read_csv(data_filepath)\n",
    "paragraph_data.head()"
   ]
  },
  {
   "cell_type": "code",
   "execution_count": 3,
   "metadata": {},
   "outputs": [
    {
     "data": {
      "text/html": [
       "<div>\n",
       "<style scoped>\n",
       "    .dataframe tbody tr th:only-of-type {\n",
       "        vertical-align: middle;\n",
       "    }\n",
       "\n",
       "    .dataframe tbody tr th {\n",
       "        vertical-align: top;\n",
       "    }\n",
       "\n",
       "    .dataframe thead th {\n",
       "        text-align: right;\n",
       "    }\n",
       "</style>\n",
       "<table border=\"1\" class=\"dataframe\">\n",
       "  <thead>\n",
       "    <tr style=\"text-align: right;\">\n",
       "      <th></th>\n",
       "      <th>para_id</th>\n",
       "      <th>full_text</th>\n",
       "      <th>threats/impacts</th>\n",
       "      <th>responses/actions</th>\n",
       "      <th>severity</th>\n",
       "      <th>susceptibility</th>\n",
       "      <th>self-efficacy</th>\n",
       "      <th>external-efficacy</th>\n",
       "      <th>response efficacy</th>\n",
       "      <th>public health</th>\n",
       "      <th>economy</th>\n",
       "      <th>education</th>\n",
       "      <th>political evaluation</th>\n",
       "      <th>racial conflict</th>\n",
       "      <th>international ralations/foreign policies</th>\n",
       "    </tr>\n",
       "  </thead>\n",
       "  <tbody>\n",
       "    <tr>\n",
       "      <th>0</th>\n",
       "      <td>214236</td>\n",
       "      <td>MURPHY: Again Martha we are defacto staying at...</td>\n",
       "      <td>1</td>\n",
       "      <td>1</td>\n",
       "      <td>0</td>\n",
       "      <td>1</td>\n",
       "      <td>1</td>\n",
       "      <td>0</td>\n",
       "      <td>1</td>\n",
       "      <td>1</td>\n",
       "      <td>0</td>\n",
       "      <td>0</td>\n",
       "      <td>0</td>\n",
       "      <td>0</td>\n",
       "      <td>0</td>\n",
       "    </tr>\n",
       "    <tr>\n",
       "      <th>1</th>\n",
       "      <td>214232</td>\n",
       "      <td>GOV. PHIL MURPHY, (D-NJ): Yes. Good to be back...</td>\n",
       "      <td>1</td>\n",
       "      <td>1</td>\n",
       "      <td>1</td>\n",
       "      <td>1</td>\n",
       "      <td>1</td>\n",
       "      <td>0</td>\n",
       "      <td>1</td>\n",
       "      <td>1</td>\n",
       "      <td>0</td>\n",
       "      <td>0</td>\n",
       "      <td>0</td>\n",
       "      <td>0</td>\n",
       "      <td>0</td>\n",
       "    </tr>\n",
       "    <tr>\n",
       "      <th>2</th>\n",
       "      <td>214266</td>\n",
       "      <td>BEAUMONT (ON SCREEN UPPER LEFT - \"FRIDAY MARCH...</td>\n",
       "      <td>0</td>\n",
       "      <td>1</td>\n",
       "      <td>0</td>\n",
       "      <td>0</td>\n",
       "      <td>0</td>\n",
       "      <td>1</td>\n",
       "      <td>0</td>\n",
       "      <td>1</td>\n",
       "      <td>0</td>\n",
       "      <td>0</td>\n",
       "      <td>0</td>\n",
       "      <td>0</td>\n",
       "      <td>0</td>\n",
       "    </tr>\n",
       "    <tr>\n",
       "      <th>3</th>\n",
       "      <td>214246</td>\n",
       "      <td>But in the meantime, my message to Louisiana i...</td>\n",
       "      <td>1</td>\n",
       "      <td>1</td>\n",
       "      <td>1</td>\n",
       "      <td>0</td>\n",
       "      <td>1</td>\n",
       "      <td>0</td>\n",
       "      <td>1</td>\n",
       "      <td>1</td>\n",
       "      <td>0</td>\n",
       "      <td>0</td>\n",
       "      <td>0</td>\n",
       "      <td>0</td>\n",
       "      <td>0</td>\n",
       "    </tr>\n",
       "    <tr>\n",
       "      <th>4</th>\n",
       "      <td>214238</td>\n",
       "      <td>MURPHY: Yeah listen, we had gotten another shi...</td>\n",
       "      <td>0</td>\n",
       "      <td>1</td>\n",
       "      <td>0</td>\n",
       "      <td>0</td>\n",
       "      <td>0</td>\n",
       "      <td>1</td>\n",
       "      <td>0</td>\n",
       "      <td>1</td>\n",
       "      <td>0</td>\n",
       "      <td>0</td>\n",
       "      <td>0</td>\n",
       "      <td>0</td>\n",
       "      <td>0</td>\n",
       "    </tr>\n",
       "  </tbody>\n",
       "</table>\n",
       "</div>"
      ],
      "text/plain": [
       "   para_id                                          full_text  \\\n",
       "0   214236  MURPHY: Again Martha we are defacto staying at...   \n",
       "1   214232  GOV. PHIL MURPHY, (D-NJ): Yes. Good to be back...   \n",
       "2   214266  BEAUMONT (ON SCREEN UPPER LEFT - \"FRIDAY MARCH...   \n",
       "3   214246  But in the meantime, my message to Louisiana i...   \n",
       "4   214238  MURPHY: Yeah listen, we had gotten another shi...   \n",
       "\n",
       "   threats/impacts  responses/actions  severity  susceptibility  \\\n",
       "0                1                  1         0               1   \n",
       "1                1                  1         1               1   \n",
       "2                0                  1         0               0   \n",
       "3                1                  1         1               0   \n",
       "4                0                  1         0               0   \n",
       "\n",
       "   self-efficacy  external-efficacy  response efficacy  public health  \\\n",
       "0              1                  0                  1              1   \n",
       "1              1                  0                  1              1   \n",
       "2              0                  1                  0              1   \n",
       "3              1                  0                  1              1   \n",
       "4              0                  1                  0              1   \n",
       "\n",
       "   economy  education  political evaluation  racial conflict  \\\n",
       "0        0          0                     0                0   \n",
       "1        0          0                     0                0   \n",
       "2        0          0                     0                0   \n",
       "3        0          0                     0                0   \n",
       "4        0          0                     0                0   \n",
       "\n",
       "   international ralations/foreign policies  \n",
       "0                                         0  \n",
       "1                                         0  \n",
       "2                                         0  \n",
       "3                                         0  \n",
       "4                                         0  "
      ]
     },
     "execution_count": 3,
     "metadata": {},
     "output_type": "execute_result"
    }
   ],
   "source": [
    "## Keep only the paragraph id, paragraph text, and labels\n",
    "to_keep = paragraph_data.columns[0:15]\n",
    "#to_keep\n",
    "paragraph_data = paragraph_data[to_keep]\n",
    "paragraph_data.head()"
   ]
  },
  {
   "cell_type": "code",
   "execution_count": 4,
   "metadata": {},
   "outputs": [
    {
     "data": {
      "text/plain": [
       "'!\"#$%&\\'()*+,-./:;<=>?@[\\\\]^_`{|}~'"
      ]
     },
     "execution_count": 4,
     "metadata": {},
     "output_type": "execute_result"
    }
   ],
   "source": [
    "# Preprocessing\n",
    "import re\n",
    "import string\n",
    "\n",
    "def remove_URL(text):\n",
    "    url = re.compile(r\"https?://\\S+|www\\.\\S+\")\n",
    "    return url.sub(r\"\", text)\n",
    "\n",
    "# https://stackoverflow.com/questions/34293875/how-to-remove-punctuation-marks-from-a-string-in-python-3-x-using-translate/34294022\n",
    "def remove_punct(text):\n",
    "    translator = str.maketrans(\"\", \"\", string.punctuation)\n",
    "    return text.translate(translator)\n",
    "\n",
    "string.punctuation"
   ]
  },
  {
   "cell_type": "code",
   "execution_count": 5,
   "metadata": {},
   "outputs": [],
   "source": [
    "pattern = re.compile(r\"https?://(\\S+|www)\\.\\S+\")\n",
    "for t in paragraph_data.full_text:\n",
    "    matches = pattern.findall(t)\n",
    "    for match in matches:\n",
    "        print(t)\n",
    "        print(match)\n",
    "        print(pattern.sub(r\"\", t))\n",
    "    if len(matches) > 0:\n",
    "        break"
   ]
  },
  {
   "cell_type": "code",
   "execution_count": 6,
   "metadata": {},
   "outputs": [],
   "source": [
    "paragraph_data[\"full_text\"] = paragraph_data.full_text.map(remove_URL) # map(lambda x: remove_URL(x))\n",
    "paragraph_data[\"full_text\"] = paragraph_data.full_text.map(remove_punct)"
   ]
  },
  {
   "cell_type": "code",
   "execution_count": 7,
   "metadata": {},
   "outputs": [
    {
     "name": "stderr",
     "output_type": "stream",
     "text": [
      "[nltk_data] Downloading package stopwords to\n",
      "[nltk_data]     C:\\Users\\rober\\AppData\\Roaming\\nltk_data...\n",
      "[nltk_data]   Package stopwords is already up-to-date!\n"
     ]
    }
   ],
   "source": [
    "# remove stopwords\n",
    "import nltk\n",
    "nltk.download('stopwords')\n",
    "from nltk.corpus import stopwords\n",
    "\n",
    "# Stop Words: A stop word is a commonly used word (such as “the”, “a”, “an”, “in”) that a search engine\n",
    "# has been programmed to ignore, both when indexing entries for searching and when retrieving them \n",
    "# as the result of a search query.\n",
    "stop = set(stopwords.words(\"english\"))\n",
    "\n",
    "# https://stackoverflow.com/questions/5486337/how-to-remove-stop-words-using-nltk-or-python\n",
    "def remove_stopwords(text):\n",
    "    filtered_words = [word.lower() for word in text.split() if word.lower() not in stop]\n",
    "    return \" \".join(filtered_words)"
   ]
  },
  {
   "cell_type": "code",
   "execution_count": 8,
   "metadata": {},
   "outputs": [],
   "source": [
    "paragraph_data[\"full_text\"] = paragraph_data.full_text.map(remove_stopwords)"
   ]
  },
  {
   "cell_type": "code",
   "execution_count": 9,
   "metadata": {},
   "outputs": [],
   "source": [
    "from collections import Counter\n",
    "\n",
    "# Count unique words\n",
    "def counter_word(text_col):\n",
    "    count = Counter()\n",
    "    for text in text_col.values:\n",
    "        for word in text.split():\n",
    "            count[word] += 1\n",
    "    return count\n",
    "\n",
    "counter = counter_word(paragraph_data.full_text)"
   ]
  },
  {
   "cell_type": "code",
   "execution_count": 10,
   "metadata": {},
   "outputs": [
    {
     "data": {
      "text/plain": [
       "[('said', 69), ('people', 61), ('trump', 49), ('new', 48), ('tests', 47)]"
      ]
     },
     "execution_count": 10,
     "metadata": {},
     "output_type": "execute_result"
    }
   ],
   "source": [
    "num_unique_words = len(counter)\n",
    "counter.most_common(5)"
   ]
  },
  {
   "cell_type": "code",
   "execution_count": 11,
   "metadata": {},
   "outputs": [],
   "source": [
    "## Define the X and Y train and test matrices\n",
    "covariate_cols = ['full_text']\n",
    "label_cols = paragraph_data.columns.difference(['para_id'] + covariate_cols)\n",
    "\n",
    "X = paragraph_data.full_text.to_numpy()\n",
    "Y = paragraph_data[label_cols].to_numpy().astype(float)\n",
    "\n",
    "X_train, X_test, Y_train, Y_test = train_test_split(X, Y, test_size = 0.33, random_state = 321)"
   ]
  },
  {
   "cell_type": "code",
   "execution_count": 12,
   "metadata": {},
   "outputs": [
    {
     "data": {
      "text/plain": [
       "(194,)"
      ]
     },
     "execution_count": 12,
     "metadata": {},
     "output_type": "execute_result"
    }
   ],
   "source": [
    "X_train.shape"
   ]
  },
  {
   "cell_type": "code",
   "execution_count": 13,
   "metadata": {},
   "outputs": [],
   "source": [
    "# Tokenize\n",
    "from tensorflow.keras.preprocessing.text import Tokenizer\n",
    "random.seed(123)\n",
    "\n",
    "# vectorize a text corpus by turning each text into a sequence of integers\n",
    "tokenizer = Tokenizer(num_words = num_unique_words)\n",
    "tokenizer.fit_on_texts(X_train) # fit only to training\n",
    "word_index = tokenizer.word_index"
   ]
  },
  {
   "cell_type": "code",
   "execution_count": 14,
   "metadata": {},
   "outputs": [],
   "source": [
    "train_sequences = tokenizer.texts_to_sequences(X_train)\n",
    "test_sequences = tokenizer.texts_to_sequences(X_test)"
   ]
  },
  {
   "cell_type": "code",
   "execution_count": 15,
   "metadata": {},
   "outputs": [
    {
     "name": "stdout",
     "output_type": "stream",
     "text": [
      "johnson asked 70 local savannah religious leaders keep worship centers closed none leaders said would reopen johnson told religious leaders understood financial burden religious institutions closed said reach god without going building”\n",
      "[478, 72, 829, 830, 831, 316, 178, 114, 832, 228, 229, 833, 178, 1, 23, 230, 478, 57, 316, 178, 834, 144, 835, 316, 836, 229, 1, 479, 837, 179, 3, 838]\n"
     ]
    }
   ],
   "source": [
    "print(X_train[0])\n",
    "print(train_sequences[0])"
   ]
  },
  {
   "cell_type": "code",
   "execution_count": 16,
   "metadata": {},
   "outputs": [
    {
     "data": {
      "text/plain": [
       "86"
      ]
     },
     "execution_count": 16,
     "metadata": {},
     "output_type": "execute_result"
    }
   ],
   "source": [
    "max_par_length = 0\n",
    "for par in train_sequences:\n",
    "    if len(par) > max_par_length:\n",
    "        max_par_length = len(par)\n",
    "        \n",
    "max_par_length"
   ]
  },
  {
   "cell_type": "code",
   "execution_count": 17,
   "metadata": {},
   "outputs": [
    {
     "data": {
      "text/plain": [
       "((194, 100), (96, 100))"
      ]
     },
     "execution_count": 17,
     "metadata": {},
     "output_type": "execute_result"
    }
   ],
   "source": [
    "# Pad the sequences to have the same length\n",
    "from tensorflow.keras.preprocessing.sequence import pad_sequences\n",
    "\n",
    "# Max number of words in a sequence\n",
    "max_length = 100\n",
    "\n",
    "train_padded = pad_sequences(train_sequences, maxlen = max_length, padding = \"post\", truncating = \"post\")\n",
    "test_padded = pad_sequences(test_sequences, maxlen = max_length, padding = \"post\", truncating = \"post\")\n",
    "train_padded.shape, test_padded.shape"
   ]
  },
  {
   "cell_type": "code",
   "execution_count": 18,
   "metadata": {},
   "outputs": [],
   "source": [
    "# Check reversing the indices\n",
    "# flip (key, value)\n",
    "reverse_word_index = dict([(idx, word) for (word, idx) in word_index.items()])\n",
    "\n",
    "def decode(sequence):\n",
    "    return \" \".join([reverse_word_index.get(idx, \"?\") for idx in sequence])"
   ]
  },
  {
   "cell_type": "code",
   "execution_count": 19,
   "metadata": {},
   "outputs": [
    {
     "name": "stdout",
     "output_type": "stream",
     "text": [
      "[478, 72, 829, 830, 831, 316, 178, 114, 832, 228, 229, 833, 178, 1, 23, 230, 478, 57, 316, 178, 834, 144, 835, 316, 836, 229, 1, 479, 837, 179, 3, 838]\n",
      "johnson asked 70 local savannah religious leaders keep worship centers closed none leaders said would reopen johnson told religious leaders understood financial burden religious institutions closed said reach god without going building”\n"
     ]
    }
   ],
   "source": [
    "decoded_text = decode(train_sequences[0])\n",
    "\n",
    "print(train_sequences[0])\n",
    "print(decoded_text)"
   ]
  },
  {
   "cell_type": "markdown",
   "metadata": {},
   "source": [
    "## Train a Simple RNN"
   ]
  },
  {
   "cell_type": "code",
   "execution_count": 20,
   "metadata": {},
   "outputs": [],
   "source": [
    "## Define the simple RNN architecture\n",
    "num_labels = len(label_cols)\n",
    "\n",
    "model_simpleRNN = tf.keras.models.Sequential([\n",
    "    tf.keras.layers.Embedding(num_unique_words, 32, input_length = max_length),\n",
    "    tf.keras.layers.SimpleRNN(16, return_sequences = False, return_state = False),\n",
    "    #tf.keras.layers.Dropout(0.5),\n",
    "    tf.keras.layers.Dense(num_labels, activation = 'sigmoid')\n",
    "])\n",
    "\n",
    "optim = tf.keras.optimizers.Adam(lr=0.0001)\n",
    "\n",
    "#metrics = tfa.metrics.hamming_loss_fn(mode = 'multi-label')\n",
    "model_simpleRNN.compile(loss = 'categorical_crossentropy', optimizer = optim)"
   ]
  },
  {
   "cell_type": "code",
   "execution_count": 21,
   "metadata": {
    "collapsed": true,
    "jupyter": {
     "outputs_hidden": true
    }
   },
   "outputs": [
    {
     "name": "stdout",
     "output_type": "stream",
     "text": [
      "Epoch 1/100\n",
      "7/7 - 3s - loss: 7.6985 - val_loss: 7.9493\n",
      "Epoch 2/100\n",
      "7/7 - 0s - loss: 7.6808 - val_loss: 7.9473\n",
      "Epoch 3/100\n",
      "7/7 - 0s - loss: 7.6505 - val_loss: 7.9211\n",
      "Epoch 4/100\n",
      "7/7 - 0s - loss: 7.6168 - val_loss: 7.9098\n",
      "Epoch 5/100\n",
      "7/7 - 0s - loss: 7.5955 - val_loss: 7.9053\n",
      "Epoch 6/100\n",
      "7/7 - 0s - loss: 7.5760 - val_loss: 7.9000\n",
      "Epoch 7/100\n",
      "7/7 - 0s - loss: 7.5562 - val_loss: 7.8980\n",
      "Epoch 8/100\n",
      "7/7 - 0s - loss: 7.5386 - val_loss: 7.8973\n",
      "Epoch 9/100\n",
      "7/7 - 0s - loss: 7.5143 - val_loss: 7.8934\n",
      "Epoch 10/100\n",
      "7/7 - 0s - loss: 7.4868 - val_loss: 7.8929\n",
      "Epoch 11/100\n",
      "7/7 - 0s - loss: 7.4556 - val_loss: 7.8921\n",
      "Epoch 12/100\n",
      "7/7 - 0s - loss: 7.4189 - val_loss: 7.8920\n",
      "Epoch 13/100\n",
      "7/7 - 0s - loss: 7.3838 - val_loss: 7.8970\n",
      "Epoch 14/100\n",
      "7/7 - 0s - loss: 7.3515 - val_loss: 7.9027\n",
      "Epoch 15/100\n",
      "7/7 - 0s - loss: 7.3189 - val_loss: 7.9085\n",
      "Epoch 16/100\n",
      "7/7 - 0s - loss: 7.2790 - val_loss: 7.9105\n",
      "Epoch 17/100\n",
      "7/7 - 0s - loss: 7.2497 - val_loss: 7.9119\n",
      "Epoch 18/100\n",
      "7/7 - 0s - loss: 7.2189 - val_loss: 7.9157\n",
      "Epoch 19/100\n",
      "7/7 - 0s - loss: 7.1881 - val_loss: 7.9165\n",
      "Epoch 20/100\n",
      "7/7 - 0s - loss: 7.1569 - val_loss: 7.9135\n",
      "Epoch 21/100\n",
      "7/7 - 0s - loss: 7.1284 - val_loss: 7.9135\n",
      "Epoch 22/100\n",
      "7/7 - 0s - loss: 7.1116 - val_loss: 7.9151\n",
      "Epoch 23/100\n",
      "7/7 - 0s - loss: 7.0914 - val_loss: 7.9175\n",
      "Epoch 24/100\n",
      "7/7 - 0s - loss: 7.0692 - val_loss: 7.9190\n",
      "Epoch 25/100\n",
      "7/7 - 0s - loss: 7.0493 - val_loss: 7.9186\n",
      "Epoch 26/100\n",
      "7/7 - 0s - loss: 7.0350 - val_loss: 7.9183\n",
      "Epoch 27/100\n",
      "7/7 - 0s - loss: 7.0140 - val_loss: 7.9183\n",
      "Epoch 28/100\n",
      "7/7 - 0s - loss: 7.0017 - val_loss: 7.9152\n",
      "Epoch 29/100\n",
      "7/7 - 0s - loss: 6.9916 - val_loss: 7.9159\n",
      "Epoch 30/100\n",
      "7/7 - 0s - loss: 6.9805 - val_loss: 7.9156\n",
      "Epoch 31/100\n",
      "7/7 - 0s - loss: 6.9613 - val_loss: 7.9115\n",
      "Epoch 32/100\n",
      "7/7 - 0s - loss: 6.9583 - val_loss: 7.9129\n",
      "Epoch 33/100\n",
      "7/7 - 0s - loss: 6.9401 - val_loss: 7.9169\n",
      "Epoch 34/100\n",
      "7/7 - 0s - loss: 6.9255 - val_loss: 7.9120\n",
      "Epoch 35/100\n",
      "7/7 - 0s - loss: 6.9148 - val_loss: 7.9084\n",
      "Epoch 36/100\n",
      "7/7 - 0s - loss: 6.8967 - val_loss: 7.9082\n",
      "Epoch 37/100\n",
      "7/7 - 0s - loss: 6.8887 - val_loss: 7.9057\n",
      "Epoch 38/100\n",
      "7/7 - 0s - loss: 6.8741 - val_loss: 7.9043\n",
      "Epoch 39/100\n",
      "7/7 - 0s - loss: 6.8608 - val_loss: 7.9030\n",
      "Epoch 40/100\n",
      "7/7 - 0s - loss: 6.8588 - val_loss: 7.8917\n",
      "Epoch 41/100\n",
      "7/7 - 0s - loss: 6.8351 - val_loss: 7.8820\n",
      "Epoch 42/100\n",
      "7/7 - 0s - loss: 6.8396 - val_loss: 7.8789\n",
      "Epoch 43/100\n",
      "7/7 - 0s - loss: 6.8122 - val_loss: 7.8841\n",
      "Epoch 44/100\n",
      "7/7 - 0s - loss: 6.7951 - val_loss: 7.8771\n",
      "Epoch 45/100\n",
      "7/7 - 0s - loss: 6.7968 - val_loss: 7.8737\n",
      "Epoch 46/100\n",
      "7/7 - 0s - loss: 6.7742 - val_loss: 7.8774\n",
      "Epoch 47/100\n",
      "7/7 - 0s - loss: 6.7719 - val_loss: 7.8743\n",
      "Epoch 48/100\n",
      "7/7 - 0s - loss: 6.7543 - val_loss: 7.8757\n",
      "Epoch 49/100\n",
      "7/7 - 0s - loss: 6.7408 - val_loss: 7.8714\n",
      "Epoch 50/100\n",
      "7/7 - 0s - loss: 6.7416 - val_loss: 7.8671\n",
      "Epoch 51/100\n",
      "7/7 - 0s - loss: 6.7228 - val_loss: 7.8662\n",
      "Epoch 52/100\n",
      "7/7 - 0s - loss: 6.7171 - val_loss: 7.8621\n",
      "Epoch 53/100\n",
      "7/7 - 0s - loss: 6.7070 - val_loss: 7.8623\n",
      "Epoch 54/100\n",
      "7/7 - 0s - loss: 6.6988 - val_loss: 7.8626\n",
      "Epoch 55/100\n",
      "7/7 - 0s - loss: 6.6956 - val_loss: 7.8633\n",
      "Epoch 56/100\n",
      "7/7 - 0s - loss: 6.6799 - val_loss: 7.8622\n",
      "Epoch 57/100\n",
      "7/7 - 0s - loss: 6.6842 - val_loss: 7.8577\n",
      "Epoch 58/100\n",
      "7/7 - 0s - loss: 6.6631 - val_loss: 7.8510\n",
      "Epoch 59/100\n",
      "7/7 - 0s - loss: 6.6634 - val_loss: 7.8447\n",
      "Epoch 60/100\n",
      "7/7 - 0s - loss: 6.6470 - val_loss: 7.8446\n",
      "Epoch 61/100\n",
      "7/7 - 0s - loss: 6.6494 - val_loss: 7.8396\n",
      "Epoch 62/100\n",
      "7/7 - 0s - loss: 6.6400 - val_loss: 7.8404\n",
      "Epoch 63/100\n",
      "7/7 - 0s - loss: 6.6297 - val_loss: 7.8395\n",
      "Epoch 64/100\n",
      "7/7 - 0s - loss: 6.6284 - val_loss: 7.8371\n",
      "Epoch 65/100\n",
      "7/7 - 0s - loss: 6.6166 - val_loss: 7.8368\n",
      "Epoch 66/100\n",
      "7/7 - 0s - loss: 6.6244 - val_loss: 7.8327\n",
      "Epoch 67/100\n",
      "7/7 - 0s - loss: 6.6065 - val_loss: 7.8269\n",
      "Epoch 68/100\n",
      "7/7 - 0s - loss: 6.6161 - val_loss: 7.8229\n",
      "Epoch 69/100\n",
      "7/7 - 0s - loss: 6.6069 - val_loss: 7.8170\n",
      "Epoch 70/100\n",
      "7/7 - 0s - loss: 6.6017 - val_loss: 7.8167\n",
      "Epoch 71/100\n",
      "7/7 - 0s - loss: 6.5907 - val_loss: 7.8054\n",
      "Epoch 72/100\n",
      "7/7 - 0s - loss: 6.6043 - val_loss: 7.8014\n",
      "Epoch 73/100\n",
      "7/7 - 0s - loss: 6.5691 - val_loss: 7.8048\n",
      "Epoch 74/100\n",
      "7/7 - 0s - loss: 6.5922 - val_loss: 7.8065\n",
      "Epoch 75/100\n",
      "7/7 - 0s - loss: 6.5648 - val_loss: 7.8089\n",
      "Epoch 76/100\n",
      "7/7 - 0s - loss: 6.5858 - val_loss: 7.7978\n",
      "Epoch 77/100\n",
      "7/7 - 0s - loss: 6.5600 - val_loss: 7.7947\n",
      "Epoch 78/100\n",
      "7/7 - 0s - loss: 6.5631 - val_loss: 7.7932\n",
      "Epoch 79/100\n",
      "7/7 - 0s - loss: 6.5530 - val_loss: 7.7911\n",
      "Epoch 80/100\n",
      "7/7 - 0s - loss: 6.5507 - val_loss: 7.7802\n",
      "Epoch 81/100\n",
      "7/7 - 0s - loss: 6.5546 - val_loss: 7.7763\n",
      "Epoch 82/100\n",
      "7/7 - 0s - loss: 6.5338 - val_loss: 7.7801\n",
      "Epoch 83/100\n",
      "7/7 - 0s - loss: 6.5439 - val_loss: 7.7814\n",
      "Epoch 84/100\n",
      "7/7 - 0s - loss: 6.5303 - val_loss: 7.7795\n",
      "Epoch 85/100\n",
      "7/7 - 0s - loss: 6.5399 - val_loss: 7.7806\n",
      "Epoch 86/100\n",
      "7/7 - 0s - loss: 6.5272 - val_loss: 7.7786\n",
      "Epoch 87/100\n",
      "7/7 - 0s - loss: 6.5308 - val_loss: 7.7769\n",
      "Epoch 88/100\n",
      "7/7 - 0s - loss: 6.5208 - val_loss: 7.7724\n",
      "Epoch 89/100\n",
      "7/7 - 0s - loss: 6.5251 - val_loss: 7.7695\n",
      "Epoch 90/100\n",
      "7/7 - 0s - loss: 6.5128 - val_loss: 7.7677\n",
      "Epoch 91/100\n",
      "7/7 - 0s - loss: 6.5210 - val_loss: 7.7637\n",
      "Epoch 92/100\n",
      "7/7 - 0s - loss: 6.5111 - val_loss: 7.7583\n",
      "Epoch 93/100\n",
      "7/7 - 0s - loss: 6.5131 - val_loss: 7.7549\n",
      "Epoch 94/100\n",
      "7/7 - 0s - loss: 6.5079 - val_loss: 7.7532\n",
      "Epoch 95/100\n",
      "7/7 - 0s - loss: 6.5157 - val_loss: 7.7496\n",
      "Epoch 96/100\n",
      "7/7 - 0s - loss: 6.5000 - val_loss: 7.7511\n",
      "Epoch 97/100\n",
      "7/7 - 0s - loss: 6.5060 - val_loss: 7.7606\n",
      "Epoch 98/100\n",
      "7/7 - 0s - loss: 6.5020 - val_loss: 7.7577\n",
      "Epoch 99/100\n",
      "7/7 - 0s - loss: 6.5068 - val_loss: 7.7541\n",
      "Epoch 100/100\n",
      "7/7 - 0s - loss: 6.5077 - val_loss: 7.7412\n"
     ]
    },
    {
     "data": {
      "text/plain": [
       "<tensorflow.python.keras.callbacks.History at 0x20876ba81f0>"
      ]
     },
     "execution_count": 21,
     "metadata": {},
     "output_type": "execute_result"
    }
   ],
   "source": [
    "tf.random.set_seed(123)\n",
    "model_simpleRNN.fit(train_padded, Y_train, epochs = 100, validation_data = (test_padded, Y_test), verbose=2)"
   ]
  },
  {
   "cell_type": "code",
   "execution_count": 22,
   "metadata": {},
   "outputs": [
    {
     "data": {
      "text/plain": [
       "0.4567307692307692"
      ]
     },
     "execution_count": 22,
     "metadata": {},
     "output_type": "execute_result"
    }
   ],
   "source": [
    "## Using a constant 0.5 threshold function, get the hamming loss for the trained network on the test set\n",
    "predictions = model_simpleRNN.predict(test_padded)\n",
    "predictions_binary = model_simpleRNN.predict(test_padded)\n",
    "for i in range(Y_test.shape[0]):\n",
    "    for j in range(Y_test.shape[1]):\n",
    "        if predictions_binary[i, j] > 0.5:\n",
    "            predictions_binary[i, j] = 1\n",
    "        else:\n",
    "            predictions_binary[i, j] = 0\n",
    "\n",
    "# Get the hamming loss\n",
    "metrics.hamming_loss(Y_test, predictions_binary)"
   ]
  },
  {
   "cell_type": "code",
   "execution_count": 23,
   "metadata": {},
   "outputs": [
    {
     "data": {
      "text/plain": [
       "0.3125"
      ]
     },
     "execution_count": 23,
     "metadata": {},
     "output_type": "execute_result"
    }
   ],
   "source": [
    "## Learn a Threshold Function\n",
    "Y_train_pred = model_simpleRNN.predict(train_padded)\n",
    "Y_test_pred = model_simpleRNN.predict(test_padded)\n",
    "t_range = (0, 1)\n",
    "\n",
    "test_labels_binary, threshold_function = predict_test_labels_binary(Y_train_pred, Y_train, Y_test_pred, t_range)\n",
    "metrics.hamming_loss(Y_test, test_labels_binary)"
   ]
  },
  {
   "cell_type": "code",
   "execution_count": 24,
   "metadata": {},
   "outputs": [
    {
     "data": {
      "text/plain": [
       "array([0., 0., 0., 0., 0., 1., 0., 1., 1., 0., 0., 0., 0.])"
      ]
     },
     "execution_count": 24,
     "metadata": {},
     "output_type": "execute_result"
    }
   ],
   "source": [
    "Y_test[0,]"
   ]
  },
  {
   "cell_type": "code",
   "execution_count": 25,
   "metadata": {},
   "outputs": [
    {
     "data": {
      "text/plain": [
       "array([0., 0., 0., 0., 1., 0., 0., 1., 1., 0., 0., 0., 1.])"
      ]
     },
     "execution_count": 25,
     "metadata": {},
     "output_type": "execute_result"
    }
   ],
   "source": [
    "test_labels_binary[0,]"
   ]
  },
  {
   "cell_type": "markdown",
   "metadata": {},
   "source": [
    "## Train an LSTM model"
   ]
  },
  {
   "cell_type": "code",
   "execution_count": 20,
   "metadata": {},
   "outputs": [],
   "source": [
    "## Define the LSTM RNN architecture\n",
    "num_labels = len(label_cols)\n",
    "\n",
    "model_LSTM = tf.keras.models.Sequential([\n",
    "    tf.keras.layers.Embedding(num_unique_words, 32, input_length = max_length),\n",
    "    tf.keras.layers.LSTM(16, return_sequences = False, return_state = False),\n",
    "    #tf.keras.layers.Dropout(0.5),\n",
    "    tf.keras.layers.Dense(num_labels, activation = 'sigmoid')\n",
    "])\n",
    "\n",
    "optim = tf.keras.optimizers.Adam(lr=0.0001)\n",
    "#optim_func_LSTM = tf.keras.optimizers.Adagrad(\n",
    "#    learning_rate = 0.001, initial_accumulator_value = 0.1, epsilon = 1e-07,\n",
    "#    name = 'Adagrad')\n",
    "\n",
    "#metrics = tfa.metrics.hamming_loss_fn(mode = 'multi-label')\n",
    "model_LSTM.compile(loss = 'categorical_crossentropy', optimizer = optim)"
   ]
  },
  {
   "cell_type": "code",
   "execution_count": 21,
   "metadata": {
    "collapsed": true,
    "jupyter": {
     "outputs_hidden": true
    }
   },
   "outputs": [
    {
     "name": "stdout",
     "output_type": "stream",
     "text": [
      "Epoch 1/50\n",
      "7/7 - 4s - loss: 7.6639 - val_loss: 7.9256\n",
      "Epoch 2/50\n",
      "7/7 - 0s - loss: 7.6582 - val_loss: 7.9200\n",
      "Epoch 3/50\n",
      "7/7 - 0s - loss: 7.6526 - val_loss: 7.9144\n",
      "Epoch 4/50\n",
      "7/7 - 0s - loss: 7.6473 - val_loss: 7.9089\n",
      "Epoch 5/50\n",
      "7/7 - 0s - loss: 7.6418 - val_loss: 7.9034\n",
      "Epoch 6/50\n",
      "7/7 - 0s - loss: 7.6366 - val_loss: 7.8979\n",
      "Epoch 7/50\n",
      "7/7 - 0s - loss: 7.6312 - val_loss: 7.8922\n",
      "Epoch 8/50\n",
      "7/7 - 0s - loss: 7.6256 - val_loss: 7.8863\n",
      "Epoch 9/50\n",
      "7/7 - 0s - loss: 7.6198 - val_loss: 7.8807\n",
      "Epoch 10/50\n",
      "7/7 - 0s - loss: 7.6143 - val_loss: 7.8748\n",
      "Epoch 11/50\n",
      "7/7 - 0s - loss: 7.6085 - val_loss: 7.8689\n",
      "Epoch 12/50\n",
      "7/7 - 0s - loss: 7.6025 - val_loss: 7.8628\n",
      "Epoch 13/50\n",
      "7/7 - 0s - loss: 7.5963 - val_loss: 7.8561\n",
      "Epoch 14/50\n",
      "7/7 - 0s - loss: 7.5899 - val_loss: 7.8491\n",
      "Epoch 15/50\n",
      "7/7 - 0s - loss: 7.5832 - val_loss: 7.8423\n",
      "Epoch 16/50\n",
      "7/7 - 0s - loss: 7.5766 - val_loss: 7.8353\n",
      "Epoch 17/50\n",
      "7/7 - 0s - loss: 7.5692 - val_loss: 7.8270\n",
      "Epoch 18/50\n",
      "7/7 - 0s - loss: 7.5614 - val_loss: 7.8183\n",
      "Epoch 19/50\n",
      "7/7 - 0s - loss: 7.5527 - val_loss: 7.8092\n",
      "Epoch 20/50\n",
      "7/7 - 0s - loss: 7.5436 - val_loss: 7.7994\n",
      "Epoch 21/50\n",
      "7/7 - 0s - loss: 7.5337 - val_loss: 7.7889\n",
      "Epoch 22/50\n",
      "7/7 - 0s - loss: 7.5233 - val_loss: 7.7772\n",
      "Epoch 23/50\n",
      "7/7 - 0s - loss: 7.5116 - val_loss: 7.7644\n",
      "Epoch 24/50\n",
      "7/7 - 0s - loss: 7.4984 - val_loss: 7.7496\n",
      "Epoch 25/50\n",
      "7/7 - 0s - loss: 7.4833 - val_loss: 7.7331\n",
      "Epoch 26/50\n",
      "7/7 - 0s - loss: 7.4669 - val_loss: 7.7159\n",
      "Epoch 27/50\n",
      "7/7 - 0s - loss: 7.4496 - val_loss: 7.6956\n",
      "Epoch 28/50\n",
      "7/7 - 0s - loss: 7.4282 - val_loss: 7.6729\n",
      "Epoch 29/50\n",
      "7/7 - 0s - loss: 7.4048 - val_loss: 7.6462\n",
      "Epoch 30/50\n",
      "7/7 - 0s - loss: 7.3767 - val_loss: 7.6145\n",
      "Epoch 31/50\n",
      "7/7 - 0s - loss: 7.3429 - val_loss: 7.5778\n",
      "Epoch 32/50\n",
      "7/7 - 0s - loss: 7.3055 - val_loss: 7.5364\n",
      "Epoch 33/50\n",
      "7/7 - 0s - loss: 7.2623 - val_loss: 7.4905\n",
      "Epoch 34/50\n",
      "7/7 - 0s - loss: 7.2146 - val_loss: 7.4407\n",
      "Epoch 35/50\n",
      "7/7 - 0s - loss: 7.1643 - val_loss: 7.3886\n",
      "Epoch 36/50\n",
      "7/7 - 0s - loss: 7.1139 - val_loss: 7.3385\n",
      "Epoch 37/50\n",
      "7/7 - 0s - loss: 7.0646 - val_loss: 7.2920\n",
      "Epoch 38/50\n",
      "7/7 - 0s - loss: 7.0198 - val_loss: 7.2486\n",
      "Epoch 39/50\n",
      "7/7 - 0s - loss: 6.9780 - val_loss: 7.2110\n",
      "Epoch 40/50\n",
      "7/7 - 0s - loss: 6.9411 - val_loss: 7.1782\n",
      "Epoch 41/50\n",
      "7/7 - 0s - loss: 6.9086 - val_loss: 7.1503\n",
      "Epoch 42/50\n",
      "7/7 - 0s - loss: 6.8823 - val_loss: 7.1258\n",
      "Epoch 43/50\n",
      "7/7 - 0s - loss: 6.8582 - val_loss: 7.1049\n",
      "Epoch 44/50\n",
      "7/7 - 0s - loss: 6.8371 - val_loss: 7.0860\n",
      "Epoch 45/50\n",
      "7/7 - 0s - loss: 6.8181 - val_loss: 7.0683\n",
      "Epoch 46/50\n",
      "7/7 - 0s - loss: 6.8005 - val_loss: 7.0526\n",
      "Epoch 47/50\n",
      "7/7 - 0s - loss: 6.7848 - val_loss: 7.0374\n",
      "Epoch 48/50\n",
      "7/7 - 0s - loss: 6.7698 - val_loss: 7.0234\n",
      "Epoch 49/50\n",
      "7/7 - 0s - loss: 6.7555 - val_loss: 7.0089\n",
      "Epoch 50/50\n",
      "7/7 - 0s - loss: 6.7421 - val_loss: 6.9948\n"
     ]
    },
    {
     "data": {
      "text/plain": [
       "<tensorflow.python.keras.callbacks.History at 0x20dcc8436a0>"
      ]
     },
     "execution_count": 21,
     "metadata": {},
     "output_type": "execute_result"
    }
   ],
   "source": [
    "tf.random.set_seed(123)\n",
    "model_LSTM.fit(train_padded, Y_train, epochs = 50, validation_data = (test_padded, Y_test), verbose=2)"
   ]
  },
  {
   "cell_type": "code",
   "execution_count": 28,
   "metadata": {},
   "outputs": [
    {
     "data": {
      "text/plain": [
       "0.5024038461538461"
      ]
     },
     "execution_count": 28,
     "metadata": {},
     "output_type": "execute_result"
    }
   ],
   "source": [
    "## Using a constant 0.5 threshold function, get the hamming loss for the trained network on the test set\n",
    "predictions = model_LSTM.predict(test_padded)\n",
    "predictions_binary = model_LSTM.predict(test_padded)\n",
    "for i in range(Y_test.shape[0]):\n",
    "    for j in range(Y_test.shape[1]):\n",
    "        if predictions_binary[i, j] > 0.5:\n",
    "            predictions_binary[i, j] = 1\n",
    "        else:\n",
    "            predictions_binary[i, j] = 0\n",
    "\n",
    "# Get the hamming loss\n",
    "metrics.hamming_loss(Y_test, predictions_binary)"
   ]
  },
  {
   "cell_type": "code",
   "execution_count": 29,
   "metadata": {},
   "outputs": [
    {
     "data": {
      "text/plain": [
       "0.17708333333333334"
      ]
     },
     "execution_count": 29,
     "metadata": {},
     "output_type": "execute_result"
    }
   ],
   "source": [
    "## Learn a Threshold Function\n",
    "Y_train_pred = model_LSTM.predict(train_padded)\n",
    "Y_test_pred = model_LSTM.predict(test_padded)\n",
    "t_range = (0, 1)\n",
    "\n",
    "test_labels_binary, threshold_function = predict_test_labels_binary(Y_train_pred, Y_train, Y_test_pred, t_range)\n",
    "metrics.hamming_loss(Y_test, test_labels_binary)"
   ]
  },
  {
   "cell_type": "code",
   "execution_count": 30,
   "metadata": {},
   "outputs": [
    {
     "data": {
      "text/plain": [
       "array([0., 0., 0., 0., 0., 1., 0., 1., 1., 0., 0., 0., 0.])"
      ]
     },
     "execution_count": 30,
     "metadata": {},
     "output_type": "execute_result"
    }
   ],
   "source": [
    "Y_test[0,]"
   ]
  },
  {
   "cell_type": "code",
   "execution_count": 31,
   "metadata": {},
   "outputs": [
    {
     "data": {
      "text/plain": [
       "array([0., 0., 0., 0., 0., 1., 0., 1., 1., 0., 0., 0., 0.])"
      ]
     },
     "execution_count": 31,
     "metadata": {},
     "output_type": "execute_result"
    }
   ],
   "source": [
    "test_labels_binary[0,]"
   ]
  },
  {
   "cell_type": "code",
   "execution_count": 38,
   "metadata": {},
   "outputs": [],
   "source": [
    "## save the model weights \n",
    "model_LSTM_filepath = 'Models/LSTM_weights'\n",
    "model_LSTM.save_weights(model_LSTM_filepath)"
   ]
  },
  {
   "cell_type": "code",
   "execution_count": 36,
   "metadata": {},
   "outputs": [],
   "source": [
    "## save the learned threshold function\n",
    "threshold_filepath = 'Models/threshold_LSTM.json'\n",
    "skljson.to_json(threshold_function, threshold_filepath)"
   ]
  },
  {
   "cell_type": "markdown",
   "metadata": {},
   "source": [
    "## Train a Bidirectional LSTM"
   ]
  },
  {
   "cell_type": "code",
   "execution_count": 45,
   "metadata": {},
   "outputs": [],
   "source": [
    "## Define the LSTM RNN architecture\n",
    "num_labels = len(label_cols)\n",
    "\n",
    "model_biLSTM = tf.keras.models.Sequential([\n",
    "    tf.keras.layers.Embedding(num_unique_words, 32, input_length = max_length),\n",
    "    tf.keras.layers.Bidirectional(tf.keras.layers.LSTM(16, return_sequences = False, return_state = False)),\n",
    "    #tf.keras.layers.Dropout(0.5),\n",
    "    tf.keras.layers.Dense(num_labels, activation = 'sigmoid')\n",
    "])\n",
    "\n",
    "#optim = tf.keras.optimizers.Adam(lr=0.0001)\n",
    "optim = tf.keras.optimizers.Adagrad(\n",
    "    learning_rate = 0.001, initial_accumulator_value = 0.1, epsilon = 1e-07,\n",
    "    name = 'Adagrad')\n",
    "\n",
    "#optim = tf.keras.optimizers.RMSprop(learning_rate=0.001, rho=0.9, momentum = 0.8, epsilon=1e-07,)\n",
    "\n",
    "#metrics = tfa.metrics.hamming_loss_fn(mode = 'multi-label')\n",
    "model_biLSTM.compile(loss = 'categorical_crossentropy', optimizer = optim)"
   ]
  },
  {
   "cell_type": "code",
   "execution_count": 46,
   "metadata": {
    "collapsed": true,
    "jupyter": {
     "outputs_hidden": true
    }
   },
   "outputs": [
    {
     "name": "stdout",
     "output_type": "stream",
     "text": [
      "Epoch 1/100\n",
      "7/7 - 6s - loss: 7.6579 - val_loss: 7.9161\n",
      "Epoch 2/100\n",
      "7/7 - 0s - loss: 7.6446 - val_loss: 7.9055\n",
      "Epoch 3/100\n",
      "7/7 - 0s - loss: 7.6339 - val_loss: 7.8966\n",
      "Epoch 4/100\n",
      "7/7 - 0s - loss: 7.6247 - val_loss: 7.8892\n",
      "Epoch 5/100\n",
      "7/7 - 0s - loss: 7.6172 - val_loss: 7.8823\n",
      "Epoch 6/100\n",
      "7/7 - 0s - loss: 7.6100 - val_loss: 7.8756\n",
      "Epoch 7/100\n",
      "7/7 - 0s - loss: 7.6031 - val_loss: 7.8687\n",
      "Epoch 8/100\n",
      "7/7 - 0s - loss: 7.5961 - val_loss: 7.8634\n",
      "Epoch 9/100\n",
      "7/7 - 0s - loss: 7.5904 - val_loss: 7.8577\n",
      "Epoch 10/100\n",
      "7/7 - 0s - loss: 7.5844 - val_loss: 7.8522\n",
      "Epoch 11/100\n",
      "7/7 - 0s - loss: 7.5784 - val_loss: 7.8471\n",
      "Epoch 12/100\n",
      "7/7 - 0s - loss: 7.5730 - val_loss: 7.8414\n",
      "Epoch 13/100\n",
      "7/7 - 0s - loss: 7.5671 - val_loss: 7.8359\n",
      "Epoch 14/100\n",
      "7/7 - 0s - loss: 7.5616 - val_loss: 7.8317\n",
      "Epoch 15/100\n",
      "7/7 - 0s - loss: 7.5571 - val_loss: 7.8273\n",
      "Epoch 16/100\n",
      "7/7 - 0s - loss: 7.5522 - val_loss: 7.8217\n",
      "Epoch 17/100\n",
      "7/7 - 0s - loss: 7.5465 - val_loss: 7.8170\n",
      "Epoch 18/100\n",
      "7/7 - 0s - loss: 7.5416 - val_loss: 7.8121\n",
      "Epoch 19/100\n",
      "7/7 - 0s - loss: 7.5368 - val_loss: 7.8073\n",
      "Epoch 20/100\n",
      "7/7 - 0s - loss: 7.5316 - val_loss: 7.8026\n",
      "Epoch 21/100\n",
      "7/7 - 0s - loss: 7.5266 - val_loss: 7.7978\n",
      "Epoch 22/100\n",
      "7/7 - 0s - loss: 7.5215 - val_loss: 7.7930\n",
      "Epoch 23/100\n",
      "7/7 - 0s - loss: 7.5164 - val_loss: 7.7877\n",
      "Epoch 24/100\n",
      "7/7 - 0s - loss: 7.5110 - val_loss: 7.7823\n",
      "Epoch 25/100\n",
      "7/7 - 0s - loss: 7.5053 - val_loss: 7.7781\n",
      "Epoch 26/100\n",
      "7/7 - 0s - loss: 7.5008 - val_loss: 7.7730\n",
      "Epoch 27/100\n",
      "7/7 - 0s - loss: 7.4955 - val_loss: 7.7682\n",
      "Epoch 28/100\n",
      "7/7 - 0s - loss: 7.4903 - val_loss: 7.7635\n",
      "Epoch 29/100\n",
      "7/7 - 0s - loss: 7.4851 - val_loss: 7.7584\n",
      "Epoch 30/100\n",
      "7/7 - 0s - loss: 7.4794 - val_loss: 7.7529\n",
      "Epoch 31/100\n",
      "7/7 - 0s - loss: 7.4736 - val_loss: 7.7478\n",
      "Epoch 32/100\n",
      "7/7 - 0s - loss: 7.4681 - val_loss: 7.7424\n",
      "Epoch 33/100\n",
      "7/7 - 0s - loss: 7.4625 - val_loss: 7.7371\n",
      "Epoch 34/100\n",
      "7/7 - 0s - loss: 7.4564 - val_loss: 7.7311\n",
      "Epoch 35/100\n",
      "7/7 - 0s - loss: 7.4503 - val_loss: 7.7258\n",
      "Epoch 36/100\n",
      "7/7 - 0s - loss: 7.4447 - val_loss: 7.7204\n",
      "Epoch 37/100\n",
      "7/7 - 0s - loss: 7.4388 - val_loss: 7.7144\n",
      "Epoch 38/100\n",
      "7/7 - 0s - loss: 7.4324 - val_loss: 7.7089\n",
      "Epoch 39/100\n",
      "7/7 - 0s - loss: 7.4266 - val_loss: 7.7030\n",
      "Epoch 40/100\n",
      "7/7 - 0s - loss: 7.4204 - val_loss: 7.6969\n",
      "Epoch 41/100\n",
      "7/7 - 0s - loss: 7.4138 - val_loss: 7.6910\n",
      "Epoch 42/100\n",
      "7/7 - 0s - loss: 7.4073 - val_loss: 7.6854\n",
      "Epoch 43/100\n",
      "7/7 - 0s - loss: 7.4012 - val_loss: 7.6797\n",
      "Epoch 44/100\n",
      "7/7 - 0s - loss: 7.3949 - val_loss: 7.6734\n",
      "Epoch 45/100\n",
      "7/7 - 0s - loss: 7.3881 - val_loss: 7.6682\n",
      "Epoch 46/100\n",
      "7/7 - 0s - loss: 7.3825 - val_loss: 7.6620\n",
      "Epoch 47/100\n",
      "7/7 - 0s - loss: 7.3757 - val_loss: 7.6558\n",
      "Epoch 48/100\n",
      "7/7 - 0s - loss: 7.3687 - val_loss: 7.6491\n",
      "Epoch 49/100\n",
      "7/7 - 0s - loss: 7.3615 - val_loss: 7.6424\n",
      "Epoch 50/100\n",
      "7/7 - 0s - loss: 7.3543 - val_loss: 7.6363\n",
      "Epoch 51/100\n",
      "7/7 - 0s - loss: 7.3476 - val_loss: 7.6294\n",
      "Epoch 52/100\n",
      "7/7 - 0s - loss: 7.3400 - val_loss: 7.6239\n",
      "Epoch 53/100\n",
      "7/7 - 0s - loss: 7.3340 - val_loss: 7.6169\n",
      "Epoch 54/100\n",
      "7/7 - 0s - loss: 7.3265 - val_loss: 7.6107\n",
      "Epoch 55/100\n",
      "7/7 - 0s - loss: 7.3198 - val_loss: 7.6047\n",
      "Epoch 56/100\n",
      "7/7 - 0s - loss: 7.3133 - val_loss: 7.5975\n",
      "Epoch 57/100\n",
      "7/7 - 0s - loss: 7.3056 - val_loss: 7.5904\n",
      "Epoch 58/100\n",
      "7/7 - 0s - loss: 7.2978 - val_loss: 7.5833\n",
      "Epoch 59/100\n",
      "7/7 - 0s - loss: 7.2900 - val_loss: 7.5773\n",
      "Epoch 60/100\n",
      "7/7 - 0s - loss: 7.2831 - val_loss: 7.5706\n",
      "Epoch 61/100\n",
      "7/7 - 0s - loss: 7.2759 - val_loss: 7.5641\n",
      "Epoch 62/100\n",
      "7/7 - 0s - loss: 7.2689 - val_loss: 7.5579\n",
      "Epoch 63/100\n",
      "7/7 - 0s - loss: 7.2619 - val_loss: 7.5507\n",
      "Epoch 64/100\n",
      "7/7 - 0s - loss: 7.2538 - val_loss: 7.5440\n",
      "Epoch 65/100\n",
      "7/7 - 0s - loss: 7.2465 - val_loss: 7.5370\n",
      "Epoch 66/100\n",
      "7/7 - 0s - loss: 7.2387 - val_loss: 7.5315\n",
      "Epoch 67/100\n",
      "7/7 - 0s - loss: 7.2324 - val_loss: 7.5250\n",
      "Epoch 68/100\n",
      "7/7 - 0s - loss: 7.2253 - val_loss: 7.5186\n",
      "Epoch 69/100\n",
      "7/7 - 0s - loss: 7.2176 - val_loss: 7.5115\n",
      "Epoch 70/100\n",
      "7/7 - 0s - loss: 7.2101 - val_loss: 7.5048\n",
      "Epoch 71/100\n",
      "7/7 - 0s - loss: 7.2023 - val_loss: 7.4982\n",
      "Epoch 72/100\n",
      "7/7 - 0s - loss: 7.1949 - val_loss: 7.4913\n",
      "Epoch 73/100\n",
      "7/7 - 0s - loss: 7.1872 - val_loss: 7.4844\n",
      "Epoch 74/100\n",
      "7/7 - 0s - loss: 7.1791 - val_loss: 7.4782\n",
      "Epoch 75/100\n",
      "7/7 - 0s - loss: 7.1723 - val_loss: 7.4719\n",
      "Epoch 76/100\n",
      "7/7 - 0s - loss: 7.1655 - val_loss: 7.4660\n",
      "Epoch 77/100\n",
      "7/7 - 0s - loss: 7.1587 - val_loss: 7.4605\n",
      "Epoch 78/100\n",
      "7/7 - 0s - loss: 7.1525 - val_loss: 7.4550\n",
      "Epoch 79/100\n",
      "7/7 - 0s - loss: 7.1460 - val_loss: 7.4492\n",
      "Epoch 80/100\n",
      "7/7 - 0s - loss: 7.1387 - val_loss: 7.4432\n",
      "Epoch 81/100\n",
      "7/7 - 0s - loss: 7.1318 - val_loss: 7.4374\n",
      "Epoch 82/100\n",
      "7/7 - 0s - loss: 7.1255 - val_loss: 7.4323\n",
      "Epoch 83/100\n",
      "7/7 - 0s - loss: 7.1195 - val_loss: 7.4274\n",
      "Epoch 84/100\n",
      "7/7 - 0s - loss: 7.1135 - val_loss: 7.4223\n",
      "Epoch 85/100\n",
      "7/7 - 0s - loss: 7.1075 - val_loss: 7.4172\n",
      "Epoch 86/100\n",
      "7/7 - 0s - loss: 7.1014 - val_loss: 7.4123\n",
      "Epoch 87/100\n",
      "7/7 - 0s - loss: 7.0956 - val_loss: 7.4073\n",
      "Epoch 88/100\n",
      "7/7 - 0s - loss: 7.0895 - val_loss: 7.4027\n",
      "Epoch 89/100\n",
      "7/7 - 0s - loss: 7.0840 - val_loss: 7.3983\n",
      "Epoch 90/100\n",
      "7/7 - 0s - loss: 7.0785 - val_loss: 7.3942\n",
      "Epoch 91/100\n",
      "7/7 - 0s - loss: 7.0733 - val_loss: 7.3898\n",
      "Epoch 92/100\n",
      "7/7 - 0s - loss: 7.0677 - val_loss: 7.3859\n",
      "Epoch 93/100\n",
      "7/7 - 0s - loss: 7.0628 - val_loss: 7.3824\n",
      "Epoch 94/100\n",
      "7/7 - 0s - loss: 7.0585 - val_loss: 7.3784\n",
      "Epoch 95/100\n",
      "7/7 - 0s - loss: 7.0536 - val_loss: 7.3749\n",
      "Epoch 96/100\n",
      "7/7 - 0s - loss: 7.0487 - val_loss: 7.3715\n",
      "Epoch 97/100\n",
      "7/7 - 0s - loss: 7.0446 - val_loss: 7.3683\n",
      "Epoch 98/100\n",
      "7/7 - 0s - loss: 7.0401 - val_loss: 7.3653\n",
      "Epoch 99/100\n",
      "7/7 - 0s - loss: 7.0358 - val_loss: 7.3622\n",
      "Epoch 100/100\n",
      "7/7 - 0s - loss: 7.0320 - val_loss: 7.3589\n"
     ]
    },
    {
     "data": {
      "text/plain": [
       "<tensorflow.python.keras.callbacks.History at 0x20809c26880>"
      ]
     },
     "execution_count": 46,
     "metadata": {},
     "output_type": "execute_result"
    }
   ],
   "source": [
    "tf.random.set_seed(123)\n",
    "model_biLSTM.fit(train_padded, Y_train, epochs = 100, validation_data = (test_padded, Y_test), verbose=2)"
   ]
  },
  {
   "cell_type": "code",
   "execution_count": 47,
   "metadata": {},
   "outputs": [
    {
     "data": {
      "text/plain": [
       "0.41746794871794873"
      ]
     },
     "execution_count": 47,
     "metadata": {},
     "output_type": "execute_result"
    }
   ],
   "source": [
    "## Using a constant 0.5 threshold function, get the hamming loss for the trained network on the test set\n",
    "predictions = model_biLSTM.predict(test_padded)\n",
    "predictions_binary = model_biLSTM.predict(test_padded)\n",
    "for i in range(Y_test.shape[0]):\n",
    "    for j in range(Y_test.shape[1]):\n",
    "        if predictions_binary[i, j] > 0.5:\n",
    "            predictions_binary[i, j] = 1\n",
    "        else:\n",
    "            predictions_binary[i, j] = 0\n",
    "\n",
    "# Get the hamming loss\n",
    "metrics.hamming_loss(Y_test, predictions_binary)"
   ]
  },
  {
   "cell_type": "code",
   "execution_count": 48,
   "metadata": {},
   "outputs": [
    {
     "data": {
      "text/plain": [
       "0.2155448717948718"
      ]
     },
     "execution_count": 48,
     "metadata": {},
     "output_type": "execute_result"
    }
   ],
   "source": [
    "## Learn a Threshold Function\n",
    "Y_train_pred = model_biLSTM.predict(train_padded)\n",
    "Y_test_pred = model_biLSTM.predict(test_padded)\n",
    "t_range = (0, 1)\n",
    "\n",
    "test_labels_binary, threshold_function = predict_test_labels_binary(Y_train_pred, Y_train, Y_test_pred, t_range)\n",
    "metrics.hamming_loss(Y_test, test_labels_binary)"
   ]
  },
  {
   "cell_type": "code",
   "execution_count": 37,
   "metadata": {},
   "outputs": [
    {
     "data": {
      "text/plain": [
       "array([0., 0., 0., 0., 0., 1., 0., 1., 1., 0., 0., 0., 0.])"
      ]
     },
     "execution_count": 37,
     "metadata": {},
     "output_type": "execute_result"
    }
   ],
   "source": [
    "Y_test[0,]"
   ]
  },
  {
   "cell_type": "code",
   "execution_count": 38,
   "metadata": {},
   "outputs": [
    {
     "data": {
      "text/plain": [
       "array([0., 0., 0., 0., 0., 0., 0., 0., 1., 0., 0., 0., 0.])"
      ]
     },
     "execution_count": 38,
     "metadata": {},
     "output_type": "execute_result"
    }
   ],
   "source": [
    "test_labels_binary[0,]"
   ]
  }
 ],
 "metadata": {
  "kernelspec": {
   "display_name": "Python 3",
   "language": "python",
   "name": "python3"
  },
  "language_info": {
   "codemirror_mode": {
    "name": "ipython",
    "version": 3
   },
   "file_extension": ".py",
   "mimetype": "text/x-python",
   "name": "python",
   "nbconvert_exporter": "python",
   "pygments_lexer": "ipython3",
   "version": "3.8.5"
  }
 },
 "nbformat": 4,
 "nbformat_minor": 4
}
